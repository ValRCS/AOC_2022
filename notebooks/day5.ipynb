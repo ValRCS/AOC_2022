{
 "cells": [
  {
   "cell_type": "code",
   "execution_count": null,
   "metadata": {},
   "outputs": [],
   "source": []
  },
  {
   "cell_type": "markdown",
   "metadata": {},
   "source": [
    "## --- Day 5: Supply Stacks ---\n",
    "\n",
    "The expedition can depart as soon as the final supplies have been unloaded from the ships. Supplies are stored in stacks of marked crates, but because the needed supplies are buried under many other crates, the crates need to be rearranged.\n",
    "\n",
    "The ship has a giant cargo crane capable of moving crates between stacks. To ensure none of the crates get crushed or fall over, the crane operator will rearrange them in a series of carefully-planned steps. After the crates are rearranged, the desired crates will be at the top of each stack.\n",
    "\n",
    "The Elves don't want to interrupt the crane operator during this delicate procedure, but they forgot to ask her which crate will end up where, and they want to be ready to unload them as soon as possible so they can embark.\n",
    "\n",
    "They do, however, have a drawing of the starting stacks of crates and the rearrangement procedure (your puzzle input). For example:\n",
    "\n",
    "    [D]    \n",
    "[N] [C]    \n",
    "[Z] [M] [P]\n",
    " 1   2   3 \n",
    "\n",
    "move 1 from 2 to 1\n",
    "move 3 from 1 to 3\n",
    "move 2 from 2 to 1\n",
    "move 1 from 1 to 2\n",
    "In this example, there are three stacks of crates. Stack 1 contains two crates: crate Z is on the bottom, and crate N is on top. Stack 2 contains three crates; from bottom to top, they are crates M, C, and D. Finally, stack 3 contains a single crate, P.\n",
    "\n",
    "Then, the rearrangement procedure is given. In each step of the procedure, a quantity of crates is moved from one stack to a different stack. In the first step of the above rearrangement procedure, one crate is moved from stack 2 to stack 1, resulting in this configuration:\n",
    "\n",
    "[D]        \n",
    "[N] [C]    \n",
    "[Z] [M] [P]\n",
    " 1   2   3 \n",
    "In the second step, three crates are moved from stack 1 to stack 3. Crates are moved one at a time, so the first crate to be moved (D) ends up below the second and third crates:\n",
    "\n",
    "        [Z]\n",
    "        [N]\n",
    "    [C] [D]\n",
    "    [M] [P]\n",
    " 1   2   3\n",
    "Then, both crates are moved from stack 2 to stack 1. Again, because crates are moved one at a time, crate C ends up below crate M:\n",
    "\n",
    "        [Z]\n",
    "        [N]\n",
    "[M]     [D]\n",
    "[C]     [P]\n",
    " 1   2   3\n",
    "Finally, one crate is moved from stack 1 to stack 2:\n",
    "\n",
    "        [Z]\n",
    "        [N]\n",
    "        [D]\n",
    "[C] [M] [P]\n",
    " 1   2   3\n",
    "The Elves just need to know which crate will end up on top of each stack; in this example, the top crates are C in stack 1, M in stack 2, and Z in stack 3, so you should combine these together and give the Elves the message CMZ.\n",
    "\n",
    "After the rearrangement procedure completes, what crate ends up on top of each stack?"
   ]
  },
  {
   "cell_type": "code",
   "execution_count": 5,
   "metadata": {},
   "outputs": [
    {
     "name": "stdout",
     "output_type": "stream",
     "text": [
      "Valdis\n"
     ]
    }
   ],
   "source": [
    "# for those who are seeing Python for the first time, this is a comment\n",
    "# variables are declared with no type, and are dynamically typed\n",
    "my_name = \"Valdis\"\n",
    "print(my_name)"
   ]
  },
  {
   "cell_type": "code",
   "execution_count": 3,
   "metadata": {},
   "outputs": [
    {
     "name": "stdout",
     "output_type": "stream",
     "text": [
      "[N]             [R]             [C]\n",
      "[T] [J]         [S] [J]         [N]\n",
      "[B] [Z]     [H] [M] [Z]         [D]\n",
      "[S] [P]     [G] [L] [H] [Z]     [T]\n",
      "[Q] [D]     [F] [D] [V] [L] [S] [M]\n",
      "[H] [F] [V] [J] [C] [W] [P] [W] [L]\n",
      "[G] [S] [H] [Z] [Z] [T] [F] [V] [H]\n",
      "[R] [H] [Z] [M] [T] [M] [T] [Q] [W]\n",
      " 1   2   3   4   5   6   7   8   9 \n",
      "\n",
      "move 3 from 9 to 7\n",
      "move 4 from 4 to 5\n",
      "move 2 from 4 to 6\n",
      "move 4 from 7 to 5\n"
     ]
    }
   ],
   "source": [
    "# let's read day 5 input\n",
    "with open('../data/day5.txt') as f:\n",
    "    raw_all = f.read()\n",
    "# print first 400 characters\n",
    "print(raw_all[:400])"
   ]
  },
  {
   "cell_type": "code",
   "execution_count": 12,
   "metadata": {},
   "outputs": [
    {
     "name": "stdout",
     "output_type": "stream",
     "text": [
      "[N]             [R]             [C]\n",
      "[T] [J]         [S] [J]         [N]\n",
      "[B] [Z]     [H] [M] [Z]         [D]\n",
      "[S] [P]     [G] [L] [H] [Z]     [T]\n",
      "[Q] [D]     [F] [D] [V] [L] [S] [M]\n",
      "[H] [F] [V] [J] [C] [W] [P] [W] [L]\n",
      "[G] [S] [H] [Z] [Z] [T] [F] [V] [H]\n",
      "[R] [H] [Z] [M] [T] [M] [T] [Q] [W]\n",
      " 1   2   3   4   5   6   7   8   9 \n",
      "move 3 from 9 to 7\n",
      "move 4 from 4 to 5\n",
      "move 2 from 4 to 6\n",
      "move 4 from 7 to 5\n",
      "move 3 from 7 to 3\n",
      "move 2 from 5 to 9\n",
      "move 5 from 6 to 3\n",
      "move 5 from 9 to 1\n",
      "move 3 from 8 to 4\n",
      "move 3 from 4 to 6\n",
      "move 8 from 1 to 8\n",
      "move 1 from 8 to 6\n",
      "move 2 from 8 to 2\n",
      "move 5 from 8 to 4\n",
      "move 1 from 8 to 1\n",
      "move 6 from 6 to 4\n",
      "move 1 from 7 to 9\n",
      "move 5 from 1 to 7\n",
      "move 1 from 1 to 2\n",
      "move 2 from 9 to 8\n",
      "move 6 from 4 to 9\n",
      "m\n"
     ]
    }
   ],
   "source": [
    "raw_data, raw_instructions = raw_all.split('\\n\\n') # we split by double new line\n",
    "print(raw_data[:400])\n",
    "print(raw_instructions[:400])"
   ]
  },
  {
   "cell_type": "code",
   "execution_count": null,
   "metadata": {},
   "outputs": [],
   "source": [
    "# we will use list data structures to store our data\n",
    "# list in Python is a sequence of elements\n",
    "# we can access elements by index\n",
    "# we also have append method to add elements to the end of the list\n",
    "# we have pop method to remove elements from the end of the list\n",
    "# so we can use list as a stack"
   ]
  },
  {
   "cell_type": "code",
   "execution_count": 6,
   "metadata": {},
   "outputs": [
    {
     "name": "stdout",
     "output_type": "stream",
     "text": [
      "[[], [], [], [], [], [], [], [], []]\n"
     ]
    }
   ],
   "source": [
    "# lets create 9 stacks inside our list\n",
    "stacks = [[] for _ in range(9)]\n",
    "print(stacks)"
   ]
  },
  {
   "cell_type": "code",
   "execution_count": 8,
   "metadata": {},
   "outputs": [
    {
     "data": {
      "text/plain": [
       "['[N]             [R]             [C]',\n",
       " '[T] [J]         [S] [J]         [N]',\n",
       " '[B] [Z]     [H] [M] [Z]         [D]',\n",
       " '[S] [P]     [G] [L] [H] [Z]     [T]',\n",
       " '[Q] [D]     [F] [D] [V] [L] [S] [M]',\n",
       " '[H] [F] [V] [J] [C] [W] [P] [W] [L]',\n",
       " '[G] [S] [H] [Z] [Z] [T] [F] [V] [H]',\n",
       " '[R] [H] [Z] [M] [T] [M] [T] [Q] [W]',\n",
       " ' 1   2   3   4   5   6   7   8   9 ']"
      ]
     },
     "execution_count": 8,
     "metadata": {},
     "output_type": "execute_result"
    }
   ],
   "source": [
    "# stacks are 0 based so we will use 0-8 instead of 1-9\n",
    "# now lets split raw data by new lines\n",
    "raw_data_rows = raw_data.split('\\n')\n",
    "raw_data_rows[:10]"
   ]
  },
  {
   "cell_type": "code",
   "execution_count": 10,
   "metadata": {},
   "outputs": [
    {
     "name": "stdout",
     "output_type": "stream",
     "text": [
      "[['R', 'G', 'H', 'Q', 'S', 'B', 'T', 'N'], ['H', 'S', 'F', 'D', 'P', 'Z', 'J'], ['Z', 'H', 'V'], ['M', 'Z', 'J', 'F', 'G', 'H'], ['T', 'Z', 'C', 'D', 'L', 'M', 'S', 'R'], ['M', 'T', 'W', 'V', 'H', 'Z', 'J'], ['T', 'F', 'P', 'L', 'Z'], ['Q', 'V', 'W', 'S'], ['W', 'H', 'L', 'M', 'T', 'D', 'N', 'C']]\n"
     ]
    }
   ],
   "source": [
    "# need to reset my stacks\n",
    "stacks = [[] for _ in range(9)]\n",
    "# we will go backwards from line 8 to line 1\n",
    "# we will use enumerate to get index and value at the same time\n",
    "for row in reversed(raw_data_rows[:-1]): # we reverse everything except the last line\n",
    "    # we can't use split because we have spaces in our data\n",
    "    # so we will need to check if we have non space in particular position\n",
    "    # we will loop through all 9 positions\n",
    "    for i in range(9):\n",
    "        # we will check if that position is letter\n",
    "        pos = i*4+1\n",
    "        if row[pos].isalpha():\n",
    "            # we add to appropriate stack\n",
    "            stacks[i].append(row[pos])\n",
    "print(stacks)"
   ]
  },
  {
   "cell_type": "code",
   "execution_count": 13,
   "metadata": {},
   "outputs": [
    {
     "data": {
      "text/plain": [
       "9593"
      ]
     },
     "execution_count": 13,
     "metadata": {},
     "output_type": "execute_result"
    }
   ],
   "source": [
    "len(raw_instructions)"
   ]
  },
  {
   "cell_type": "code",
   "execution_count": 15,
   "metadata": {},
   "outputs": [],
   "source": [
    "# we will use 2D list to store our instructions\n",
    "# we will use 0-8 instead of 1-9\n",
    "# i will use regular expressions to extract numbers from each row\n",
    "import re # regular expressions"
   ]
  },
  {
   "cell_type": "code",
   "execution_count": 16,
   "metadata": {},
   "outputs": [
    {
     "data": {
      "text/plain": [
       "['move 3 from 9 to 7', 'move 4 from 4 to 5', 'move 2 from 4 to 6']"
      ]
     },
     "execution_count": 16,
     "metadata": {},
     "output_type": "execute_result"
    }
   ],
   "source": [
    "raw_instructions_rows = raw_instructions.split('\\n')\n",
    "# print first 3 rows\n",
    "raw_instructions_rows[:3]"
   ]
  },
  {
   "cell_type": "code",
   "execution_count": 18,
   "metadata": {},
   "outputs": [
    {
     "name": "stdout",
     "output_type": "stream",
     "text": [
      "3 9 7\n"
     ]
    }
   ],
   "source": [
    "# i will use regular expressions to extract numbers from each row\n",
    "# if you are rusty on your regular expressions you can check out\n",
    "# https://regex101.com/\n",
    "\n",
    "# lets extract all numbers from first row of raw instructions\n",
    "# we will use regular expressions to extract numbers\n",
    "\n",
    "move, _from, to = re.findall(r'\\d+', raw_instructions_rows[0])\n",
    "print(move, _from, to)\n",
    "\n"
   ]
  },
  {
   "cell_type": "code",
   "execution_count": 19,
   "metadata": {},
   "outputs": [
    {
     "name": "stdout",
     "output_type": "stream",
     "text": [
      "20 3 5\n"
     ]
    }
   ],
   "source": [
    "# lets test one more time\n",
    "move, _from, to = re.findall(r'\\d+', \"move 20 from 3 to 5\")\n",
    "print(move, _from, to)"
   ]
  },
  {
   "cell_type": "code",
   "execution_count": 20,
   "metadata": {},
   "outputs": [
    {
     "data": {
      "text/plain": [
       "[[3, 9, 7], [4, 4, 5], [2, 4, 6]]"
      ]
     },
     "execution_count": 20,
     "metadata": {},
     "output_type": "execute_result"
    }
   ],
   "source": [
    "# now we can create our 2D list\n",
    "# remember to convert to int\n",
    "instructions = []\n",
    "for row in raw_instructions_rows:\n",
    "    move, _from, to = re.findall(r'\\d+', row)\n",
    "    instructions.append([int(move), int(_from), int(to)])\n",
    "# print first 3 rows\n",
    "instructions[:3]"
   ]
  },
  {
   "cell_type": "code",
   "execution_count": 21,
   "metadata": {},
   "outputs": [],
   "source": [
    "# lets make a deep copy of our stacks\n",
    "# we will use deepcopy from copy module\n",
    "from copy import deepcopy\n",
    "stacks_copy = deepcopy(stacks)\n",
    "# we will use deepcopy because we have lists inside our list\n",
    "# more about deep copy vs shallow copy\n",
    "# https://www.geeksforgeeks.org/copy-python-deep-copy-shallow-copy/"
   ]
  },
  {
   "cell_type": "code",
   "execution_count": 22,
   "metadata": {},
   "outputs": [],
   "source": [
    "# now we can start executing our instructions\n",
    "# for all instructions\n",
    "for move, _from, to in instructions:\n",
    "    # we will pop from _from stack\n",
    "    # and append to to stack\n",
    "    # we will need to adjust for 0-8 instead of 1-9\n",
    "    _from -= 1\n",
    "    to -= 1\n",
    "    # we will do it move times\n",
    "    for _ in range(move):\n",
    "        # we will pop from _from stack\n",
    "        # and append to to stack\n",
    "        stacks[to].append(stacks[_from].pop())"
   ]
  },
  {
   "cell_type": "code",
   "execution_count": 23,
   "metadata": {},
   "outputs": [
    {
     "name": "stdout",
     "output_type": "stream",
     "text": [
      "1 P\n",
      "2 T\n",
      "3 W\n",
      "4 L\n",
      "5 T\n",
      "6 D\n",
      "7 S\n",
      "8 J\n",
      "9 V\n"
     ]
    }
   ],
   "source": [
    "# lets print top of each stack\n",
    "for i, stack in enumerate(stacks):\n",
    "    print(i+1, stack[-1]) # -1 is the last element without popping\n"
   ]
  },
  {
   "cell_type": "code",
   "execution_count": 24,
   "metadata": {},
   "outputs": [
    {
     "data": {
      "text/plain": [
       "'PTWLTDSJV'"
      ]
     },
     "execution_count": 24,
     "metadata": {},
     "output_type": "execute_result"
    }
   ],
   "source": [
    "# lets join these last elements of each stack in a single string\n",
    "''.join([stack[-1] for stack in stacks])"
   ]
  },
  {
   "cell_type": "code",
   "execution_count": null,
   "metadata": {},
   "outputs": [],
   "source": []
  }
 ],
 "metadata": {
  "kernelspec": {
   "display_name": "Python 3.9.0 64-bit",
   "language": "python",
   "name": "python3"
  },
  "language_info": {
   "codemirror_mode": {
    "name": "ipython",
    "version": 3
   },
   "file_extension": ".py",
   "mimetype": "text/x-python",
   "name": "python",
   "nbconvert_exporter": "python",
   "pygments_lexer": "ipython3",
   "version": "3.9.0"
  },
  "orig_nbformat": 4,
  "vscode": {
   "interpreter": {
    "hash": "11938c6bc6919ae2720b4d5011047913343b08a43b18698fd82dedb0d4417594"
   }
  }
 },
 "nbformat": 4,
 "nbformat_minor": 2
}
